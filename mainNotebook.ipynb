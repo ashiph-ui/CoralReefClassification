{
 "cells": [
  {
   "cell_type": "code",
   "execution_count": 54,
   "metadata": {},
   "outputs": [],
   "source": [
    "from cnnClass import CNN\n",
    "from keras.models import Sequential\n",
    "from keras.layers import Conv2D, MaxPooling2D, Flatten, Dense\n",
    "import numpy as np\n",
    "import pandas as pd\n",
    "import os\n",
    "import cv2\n",
    "import random\n",
    "import matplotlib.pyplot as plt"
   ]
  },
  {
   "cell_type": "code",
   "execution_count": 55,
   "metadata": {},
   "outputs": [],
   "source": [
    "%run cnnClass.py"
   ]
  },
  {
   "cell_type": "code",
   "execution_count": 56,
   "metadata": {},
   "outputs": [],
   "source": [
    "healthy_corals = 'C:\\\\Users\\\\Aship\\\\PycharmProjects\\\\CoralReefClassification\\\\healthy_corals'\n",
    "bleached_corals = 'C:\\\\Users\\\\Aship\\\\PycharmProjects\\\\CoralReefClassification\\\\bleached_corals'\n"
   ]
  },
  {
   "cell_type": "code",
   "execution_count": 57,
   "metadata": {},
   "outputs": [],
   "source": [
    "CnnClass = CNN(bleached_corals, healthy_corals)\n",
    "images, labels = CnnClass.load_images()"
   ]
  },
  {
   "cell_type": "code",
   "execution_count": 58,
   "metadata": {},
   "outputs": [],
   "source": [
    "images, labels = CnnClass.shuffle_images(images, labels)"
   ]
  },
  {
   "cell_type": "code",
   "execution_count": 59,
   "metadata": {},
   "outputs": [],
   "source": [
    "images, labels = CnnClass.preprocess_images(images, labels)"
   ]
  },
  {
   "cell_type": "code",
   "execution_count": 60,
   "metadata": {},
   "outputs": [],
   "source": [
    "X_train, Y_train, X_test, Y_test = CnnClass.train_test_split(images, labels)"
   ]
  },
  {
   "cell_type": "code",
   "execution_count": 61,
   "metadata": {},
   "outputs": [],
   "source": [
    "%run cnnClass.py"
   ]
  },
  {
   "cell_type": "code",
   "execution_count": 62,
   "metadata": {},
   "outputs": [],
   "source": [
    "model = CnnClass.create_model()"
   ]
  },
  {
   "cell_type": "code",
   "execution_count": 63,
   "metadata": {},
   "outputs": [
    {
     "name": "stdout",
     "output_type": "stream",
     "text": [
      "Epoch 1/10\n",
      "24/24 [==============================] - 73s 2s/step - loss: 2.6113 - accuracy: 0.5217 - val_loss: 2.4095 - val_accuracy: 0.5405\n",
      "Epoch 2/10\n",
      "24/24 [==============================] - 50s 2s/step - loss: 2.0087 - accuracy: 0.5217 - val_loss: 1.7102 - val_accuracy: 0.5405\n",
      "Epoch 3/10\n",
      "24/24 [==============================] - 52s 2s/step - loss: 1.3791 - accuracy: 0.5217 - val_loss: 1.1262 - val_accuracy: 0.5405\n",
      "Epoch 4/10\n",
      "24/24 [==============================] - 49s 2s/step - loss: 0.9204 - accuracy: 0.5217 - val_loss: 0.7981 - val_accuracy: 0.5405\n",
      "Epoch 5/10\n",
      "24/24 [==============================] - 41s 2s/step - loss: 0.7416 - accuracy: 0.5217 - val_loss: 0.7054 - val_accuracy: 0.5405\n",
      "Epoch 6/10\n",
      "24/24 [==============================] - 40s 2s/step - loss: 0.7024 - accuracy: 0.5217 - val_loss: 0.6912 - val_accuracy: 0.5405\n",
      "Epoch 7/10\n",
      "24/24 [==============================] - 39s 2s/step - loss: 0.6942 - accuracy: 0.5217 - val_loss: 0.6908 - val_accuracy: 0.5405\n",
      "Epoch 8/10\n",
      "24/24 [==============================] - 40s 2s/step - loss: 0.6888 - accuracy: 0.5217 - val_loss: 0.6906 - val_accuracy: 0.5405\n",
      "Epoch 9/10\n",
      "24/24 [==============================] - 39s 2s/step - loss: 0.6908 - accuracy: 0.5217 - val_loss: 0.6919 - val_accuracy: 0.5405\n",
      "Epoch 10/10\n",
      "24/24 [==============================] - 2450s 106s/step - loss: 0.6976 - accuracy: 0.5217 - val_loss: 0.6937 - val_accuracy: 0.5405\n"
     ]
    },
    {
     "data": {
      "text/plain": [
       "<keras.callbacks.History at 0x152a9643280>"
      ]
     },
     "execution_count": 63,
     "metadata": {},
     "output_type": "execute_result"
    }
   ],
   "source": [
    "model.fit(X_train, Y_train, epochs=10, batch_size=32, validation_data=(X_test, Y_test))"
   ]
  },
  {
   "cell_type": "code",
   "execution_count": 64,
   "metadata": {},
   "outputs": [
    {
     "data": {
      "image/png": "[encoded data removed]",
      "text/plain": [
       "<Figure size 432x288 with 1 Axes>"
      ]
     },
     "metadata": {
      "needs_background": "light"
     },
     "output_type": "display_data"
    }
   ],
   "source": [
    "# Train-test plot\n",
    "plt.plot(model.history.history['accuracy'])\n",
    "plt.plot(model.history.history['val_accuracy'])\n",
    "plt.title('Model accuracy')\n",
    "plt.ylabel('Accuracy')\n",
    "plt.xlabel('Epoch')\n",
    "plt.legend(['Train', 'Test'], loc='upper left')\n",
    "plt.show()\n"
   ]
  },
  {
   "cell_type": "code",
   "execution_count": 65,
   "metadata": {},
   "outputs": [
    {
     "data": {
      "image/png": "[encoded data removed]",
      "text/plain": [
       "<Figure size 432x288 with 1 Axes>"
      ]
     },
     "metadata": {
      "needs_background": "light"
     },
     "output_type": "display_data"
    }
   ],
   "source": [
    "plt.plot(model.history.history['loss'])\n",
    "plt.plot(model.history.history['val_loss'])\n",
    "plt.title('Model loss')\n",
    "plt.ylabel('Loss')\n",
    "plt.xlabel('Epoch')\n",
    "plt.legend(['Train', 'Test'], loc='upper left')\n",
    "plt.show()\n"
   ]
  },
  {
   "cell_type": "code",
   "execution_count": null,
   "metadata": {},
   "outputs": [],
   "source": []
  }
 ],
 "metadata": {
  "kernelspec": {
   "display_name": "Python 3",
   "language": "python",
   "name": "python3"
  },
  "language_info": {
   "codemirror_mode": {
    "name": "ipython",
    "version": 3
   },
   "file_extension": ".py",
   "mimetype": "text/x-python",
   "name": "python",
   "nbconvert_exporter": "python",
   "pygments_lexer": "ipython3",
   "version": "3.9.1"
  }
 },
 "nbformat": 4,
 "nbformat_minor": 2
}
